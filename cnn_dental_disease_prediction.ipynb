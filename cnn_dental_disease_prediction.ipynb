{
  "nbformat": 4,
  "nbformat_minor": 0,
  "metadata": {
    "colab": {
      "provenance": []
    },
    "kernelspec": {
      "name": "python3",
      "display_name": "Python 3"
    },
    "language_info": {
      "name": "python"
    },
    "accelerator": "GPU",
    "gpuClass": "standard"
  },
  "cells": [
    {
      "cell_type": "code",
      "execution_count": null,
      "metadata": {
        "id": "vQ-H-XB7lRy9"
      },
      "outputs": [],
      "source": [
        "import tensorflow as tf\n",
        "from tensorflow import keras\n",
        "from keras import Sequential\n",
        "from keras.layers import Dense, Conv2D, MaxPooling2D, Flatten, BatchNormalization, Dropout"
      ]
    },
    {
      "cell_type": "code",
      "source": [
        "# generators\n",
        "\n",
        "train_ds = keras.utils.image_dataset_from_directory(\n",
        "\n",
        "directory = '/content/drive/MyDrive/Dental Project Vspace/train',\n",
        "\n",
        "labels='inferred',\n",
        "\n",
        "label_mode = 'int',\n",
        "\n",
        "batch_size=32,\n",
        "\n",
        "image_size=(256,256)\n",
        "\n",
        ")\n",
        "\n",
        "validation_ds = keras.utils.image_dataset_from_directory(\n",
        "\n",
        "directory = '/content/drive/MyDrive/Dental Project Vspace/test',\n",
        "\n",
        "labels='inferred',\n",
        "\n",
        "label_mode = 'int',\n",
        "\n",
        "batch_size=32,\n",
        "\n",
        "image_size=(256,256)\n",
        "\n",
        ")"
      ],
      "metadata": {
        "colab": {
          "base_uri": "https://localhost:8080/"
        },
        "id": "Owh8sRkWsKZG",
        "outputId": "af67a2f8-0c6c-40f5-ef7d-e93173551267"
      },
      "execution_count": null,
      "outputs": [
        {
          "output_type": "stream",
          "name": "stdout",
          "text": [
            "Found 299 files belonging to 2 classes.\n",
            "Found 118 files belonging to 2 classes.\n"
          ]
        }
      ]
    },
    {
      "cell_type": "code",
      "source": [
        "from google.colab import drive\n",
        "drive.mount('/content/drive')"
      ],
      "metadata": {
        "id": "pcZQXXVWeS1B"
      },
      "execution_count": null,
      "outputs": []
    },
    {
      "cell_type": "code",
      "source": [
        "# Normalize\n",
        "\n",
        "def process (image, label):\n",
        "\n",
        "    image = tf.cast (image/255., tf.float32)\n",
        "\n",
        "    return image, label\n",
        "\n",
        "train_ds = train_ds.map(process)\n",
        "validation_ds = validation_ds.map(process)"
      ],
      "metadata": {
        "id": "scsLSwK3uC3v"
      },
      "execution_count": null,
      "outputs": []
    },
    {
      "cell_type": "code",
      "source": [
        "# create CNN model\n",
        "\n",
        "\n",
        "\n",
        "model = Sequential()\n",
        "\n",
        "model.add(Conv2D(32,kernel_size=(3,3),padding='valid',activation= 'relu',input_shape=(256,256,3)))\n",
        "model.add(BatchNormalization())\n",
        "model.add(MaxPooling2D(pool_size=(2,2), strides=2, padding='valid'))\n",
        "\n",
        "model.add(Conv2D(64,kernel_size=(3,3),padding='valid',activation='relu'))\n",
        "model.add(BatchNormalization())\n",
        "model.add(MaxPooling2D (pool_size=(2,2), strides=2, padding='valid'))\n",
        "\n",
        "model.add(Conv2D(128,kernel_size=(3,3),padding='valid',activation='relu'))\n",
        "model.add(BatchNormalization())\n",
        "model.add(MaxPooling2D(pool_size=(2,2), strides=2, padding='valid'))\n",
        "\n",
        "model.add(Flatten())\n",
        "\n",
        "model.add(Dense (128, activation='relu'))\n",
        "model.add(Dropout(0.1))\n",
        "model.add(Dense (64, activation='relu'))\n",
        "model.add(Dropout(0.1))\n",
        "model.add(Dense (1, activation='sigmoid'))"
      ],
      "metadata": {
        "id": "J0x7f-RHvXv0"
      },
      "execution_count": null,
      "outputs": []
    },
    {
      "cell_type": "code",
      "source": [
        "model.summary()"
      ],
      "metadata": {
        "colab": {
          "base_uri": "https://localhost:8080/"
        },
        "id": "0iyiDX4_wp9F",
        "outputId": "c920d909-abe6-4cd0-c301-dadee1e3a369"
      },
      "execution_count": null,
      "outputs": [
        {
          "output_type": "stream",
          "name": "stdout",
          "text": [
            "Model: \"sequential\"\n",
            "_________________________________________________________________\n",
            " Layer (type)                Output Shape              Param #   \n",
            "=================================================================\n",
            " conv2d (Conv2D)             (None, 254, 254, 32)      896       \n",
            "                                                                 \n",
            " batch_normalization (BatchN  (None, 254, 254, 32)     128       \n",
            " ormalization)                                                   \n",
            "                                                                 \n",
            " max_pooling2d (MaxPooling2D  (None, 127, 127, 32)     0         \n",
            " )                                                               \n",
            "                                                                 \n",
            " conv2d_1 (Conv2D)           (None, 125, 125, 64)      18496     \n",
            "                                                                 \n",
            " batch_normalization_1 (Batc  (None, 125, 125, 64)     256       \n",
            " hNormalization)                                                 \n",
            "                                                                 \n",
            " max_pooling2d_1 (MaxPooling  (None, 62, 62, 64)       0         \n",
            " 2D)                                                             \n",
            "                                                                 \n",
            " conv2d_2 (Conv2D)           (None, 60, 60, 128)       73856     \n",
            "                                                                 \n",
            " batch_normalization_2 (Batc  (None, 60, 60, 128)      512       \n",
            " hNormalization)                                                 \n",
            "                                                                 \n",
            " max_pooling2d_2 (MaxPooling  (None, 30, 30, 128)      0         \n",
            " 2D)                                                             \n",
            "                                                                 \n",
            " flatten (Flatten)           (None, 115200)            0         \n",
            "                                                                 \n",
            " dense (Dense)               (None, 128)               14745728  \n",
            "                                                                 \n",
            " dropout (Dropout)           (None, 128)               0         \n",
            "                                                                 \n",
            " dense_1 (Dense)             (None, 64)                8256      \n",
            "                                                                 \n",
            " dropout_1 (Dropout)         (None, 64)                0         \n",
            "                                                                 \n",
            " dense_2 (Dense)             (None, 1)                 65        \n",
            "                                                                 \n",
            "=================================================================\n",
            "Total params: 14,848,193\n",
            "Trainable params: 14,847,745\n",
            "Non-trainable params: 448\n",
            "_________________________________________________________________\n"
          ]
        }
      ]
    },
    {
      "cell_type": "code",
      "source": [
        "model.compile(optimizer='adam', loss='binary_crossentropy', metrics=['accuracy'])"
      ],
      "metadata": {
        "id": "i558h6uRx4sw"
      },
      "execution_count": null,
      "outputs": []
    },
    {
      "cell_type": "code",
      "source": [
        "history = model.fit(train_ds, epochs=10, validation_data=validation_ds)"
      ],
      "metadata": {
        "colab": {
          "base_uri": "https://localhost:8080/"
        },
        "id": "2rr6FrSOyVOl",
        "outputId": "473ea645-8346-484d-8a2f-6a9e0e296e77"
      },
      "execution_count": null,
      "outputs": [
        {
          "output_type": "stream",
          "name": "stdout",
          "text": [
            "Epoch 1/10\n",
            "10/10 [==============================] - 144s 5s/step - loss: 3.2271 - accuracy: 0.7157 - val_loss: 0.6493 - val_accuracy: 0.6441\n",
            "Epoch 2/10\n",
            "10/10 [==============================] - 2s 158ms/step - loss: 2.6280 - accuracy: 0.7759 - val_loss: 0.8635 - val_accuracy: 0.6610\n",
            "Epoch 3/10\n",
            "10/10 [==============================] - 2s 129ms/step - loss: 1.3735 - accuracy: 0.8328 - val_loss: 4.0550 - val_accuracy: 0.4746\n",
            "Epoch 4/10\n",
            "10/10 [==============================] - 2s 154ms/step - loss: 0.6826 - accuracy: 0.9164 - val_loss: 3.5493 - val_accuracy: 0.4746\n",
            "Epoch 5/10\n",
            "10/10 [==============================] - 3s 162ms/step - loss: 1.0551 - accuracy: 0.8796 - val_loss: 1.0610 - val_accuracy: 0.5000\n",
            "Epoch 6/10\n",
            "10/10 [==============================] - 2s 132ms/step - loss: 0.5219 - accuracy: 0.9030 - val_loss: 5.1923 - val_accuracy: 0.4746\n",
            "Epoch 7/10\n",
            "10/10 [==============================] - 2s 134ms/step - loss: 0.3518 - accuracy: 0.9398 - val_loss: 10.6469 - val_accuracy: 0.4746\n",
            "Epoch 8/10\n",
            "10/10 [==============================] - 2s 132ms/step - loss: 0.3242 - accuracy: 0.9431 - val_loss: 10.2502 - val_accuracy: 0.4746\n",
            "Epoch 9/10\n",
            "10/10 [==============================] - 2s 154ms/step - loss: 0.2846 - accuracy: 0.9331 - val_loss: 6.4207 - val_accuracy: 0.4746\n",
            "Epoch 10/10\n",
            "10/10 [==============================] - 3s 161ms/step - loss: 0.4389 - accuracy: 0.9398 - val_loss: 4.2337 - val_accuracy: 0.4831\n"
          ]
        }
      ]
    },
    {
      "cell_type": "code",
      "source": [
        "# To see training results, plotting a graph\n",
        "import matplotlib.pyplot as plt\n",
        "\n",
        "plt.plot(history.history['accuracy'], color='red',label='train')\n",
        "plt.plot(history.history['val_accuracy'], color='blue', label='validation')\n",
        "\n",
        "plt.legend()\n",
        "\n",
        "plt.show()"
      ],
      "metadata": {
        "colab": {
          "base_uri": "https://localhost:8080/",
          "height": 265
        },
        "id": "AsfCo19szVUQ",
        "outputId": "6f35f09a-646c-442c-f6ca-d9ec79acf5b9"
      },
      "execution_count": null,
      "outputs": [
        {
          "output_type": "display_data",
          "data": {
            "text/plain": [
              "<Figure size 432x288 with 1 Axes>"
            ],
            "image/png": "[encoded data removed]"
          },
          "metadata": {
            "needs_background": "light"
          }
        }
      ]
    },
    {
      "cell_type": "code",
      "source": [
        "plt.plot(history.history['loss'], color='red', label='train')\n",
        "plt.plot(history.history['val_loss'], color='blue', label='validation')\n",
        "plt.legend()\n",
        "plt.show()"
      ],
      "metadata": {
        "colab": {
          "base_uri": "https://localhost:8080/",
          "height": 265
        },
        "id": "etveOApn0TF5",
        "outputId": "ac2d58f2-5597-4ae7-df76-a776f39b15d7"
      },
      "execution_count": null,
      "outputs": [
        {
          "output_type": "display_data",
          "data": {
            "text/plain": [
              "<Figure size 432x288 with 1 Axes>"
            ],
            "image/png": "[encoded data removed]"
          },
          "metadata": {
            "needs_background": "light"
          }
        }
      ]
    },
    {
      "cell_type": "code",
      "source": [
        "import cv2"
      ],
      "metadata": {
        "id": "LToApsVc3rZu"
      },
      "execution_count": null,
      "outputs": []
    },
    {
      "cell_type": "code",
      "source": [
        "test_img = cv2.imread('/content/s20150630_115138_0000.bmp')"
      ],
      "metadata": {
        "id": "3gq-wcM54BTL"
      },
      "execution_count": null,
      "outputs": []
    },
    {
      "cell_type": "code",
      "source": [
        "plt.imshow(test_img)"
      ],
      "metadata": {
        "colab": {
          "base_uri": "https://localhost:8080/",
          "height": 286
        },
        "id": "xeLTRN545TOz",
        "outputId": "6ac198cc-b2e6-44d4-da93-ddeb21c6de0f"
      },
      "execution_count": null,
      "outputs": [
        {
          "output_type": "execute_result",
          "data": {
            "text/plain": [
              "<matplotlib.image.AxesImage at 0x7fcb340885e0>"
            ]
          },
          "metadata": {},
          "execution_count": 18
        },
        {
          "output_type": "display_data",
          "data": {
            "text/plain": [
              "<Figure size 432x288 with 1 Axes>"
            ],
            "image/png": "[encoded data removed]"
          },
          "metadata": {
            "needs_background": "light"
          }
        }
      ]
    },
    {
      "cell_type": "code",
      "source": [
        "test_img.shape"
      ],
      "metadata": {
        "colab": {
          "base_uri": "https://localhost:8080/"
        },
        "id": "o50s6lT35gi2",
        "outputId": "27ae0836-d9f8-4681-f39f-e2fbfa4b1bcd"
      },
      "execution_count": null,
      "outputs": [
        {
          "output_type": "execute_result",
          "data": {
            "text/plain": [
              "(934, 676, 3)"
            ]
          },
          "metadata": {},
          "execution_count": 19
        }
      ]
    },
    {
      "cell_type": "code",
      "source": [
        "test_img = cv2.resize(test_img,(256,256))"
      ],
      "metadata": {
        "id": "Z7VtRIt75m4p"
      },
      "execution_count": null,
      "outputs": []
    },
    {
      "cell_type": "code",
      "source": [
        "test_input = test_img.reshape((1,256,256,3))"
      ],
      "metadata": {
        "id": "GKSyHr6r6IyD"
      },
      "execution_count": null,
      "outputs": []
    },
    {
      "cell_type": "code",
      "source": [
        "model.predict(test_input)"
      ],
      "metadata": {
        "colab": {
          "base_uri": "https://localhost:8080/"
        },
        "id": "RGZ7vr8v6uiI",
        "outputId": "eaa69dbc-754a-4a1e-aea3-8b0dac9a4d95"
      },
      "execution_count": null,
      "outputs": [
        {
          "output_type": "stream",
          "name": "stdout",
          "text": [
            "1/1 [==============================] - 0s 19ms/step\n"
          ]
        },
        {
          "output_type": "execute_result",
          "data": {
            "text/plain": [
              "array([[0.]], dtype=float32)"
            ]
          },
          "metadata": {},
          "execution_count": 22
        }
      ]
    }
  ]
}